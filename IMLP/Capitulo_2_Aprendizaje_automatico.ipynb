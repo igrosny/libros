{
  "nbformat": 4,
  "nbformat_minor": 0,
  "metadata": {
    "colab": {
      "name": "IMLP: Capitulo 2 Aprendizaje automatico",
      "version": "0.3.2",
      "provenance": [],
      "include_colab_link": true
    },
    "kernelspec": {
      "name": "python3",
      "display_name": "Python 3"
    }
  },
  "cells": [
    {
      "cell_type": "markdown",
      "metadata": {
        "id": "view-in-github",
        "colab_type": "text"
      },
      "source": [
        "<a href=\"https://colab.research.google.com/github/igrosny/libros/blob/master/IMLP/Capitulo_2_Aprendizaje_automatico.ipynb\" target=\"_parent\"><img src=\"https://colab.research.google.com/assets/colab-badge.svg\" alt=\"Open In Colab\"/></a>"
      ]
    },
    {
      "metadata": {
        "id": "dDDMXjKZnSlp",
        "colab_type": "text"
      },
      "cell_type": "markdown",
      "source": [
        "# Capitulo 2: Aprendizaje supervisado\n",
        "## Clasificacion y regresion\n",
        "\n",
        "**Clasificacion** tiene como objetivo preddecir una clase. La clasificacion puede ser binaria o multiclass\n",
        "\n",
        "**Regresion** tiene como objetivo predecir un numero continuo\n",
        "\n",
        "### Generalizacion, Overfitting y Underfitting"
      ]
    },
    {
      "metadata": {
        "id": "IOxd_ZlonOKQ",
        "colab_type": "code",
        "colab": {}
      },
      "cell_type": "code",
      "source": [
        ""
      ],
      "execution_count": 0,
      "outputs": []
    }
  ]
}