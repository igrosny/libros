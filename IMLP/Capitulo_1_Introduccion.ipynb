{
  "nbformat": 4,
  "nbformat_minor": 0,
  "metadata": {
    "colab": {
      "name": "IMLP: Capitulo 1 Introduccion",
      "version": "0.3.2",
      "provenance": [],
      "collapsed_sections": [],
      "include_colab_link": true
    },
    "kernelspec": {
      "name": "python3",
      "display_name": "Python 3"
    }
  },
  "cells": [
    {
      "cell_type": "markdown",
      "metadata": {
        "id": "view-in-github",
        "colab_type": "text"
      },
      "source": [
        "<a href=\"https://colab.research.google.com/github/igrosny/libros/blob/master/IMLP/Capitulo_1_Introduccion.ipynb\" target=\"_parent\"><img src=\"https://colab.research.google.com/assets/colab-badge.svg\" alt=\"Open In Colab\"/></a>"
      ]
    },
    {
      "metadata": {
        "id": "rMCTpI-mCVbK",
        "colab_type": "text"
      },
      "cell_type": "markdown",
      "source": [
        "# Introduction to Machine Learning with Python\n",
        "## Capitulo 1: Introduccion\n",
        "\n",
        "### Numpy\n",
        "\n",
        "Contiene funciones para arreglo multidimensionales y algebra lineal"
      ]
    },
    {
      "metadata": {
        "id": "8a35fnQUCKYT",
        "colab_type": "code",
        "colab": {
          "base_uri": "https://localhost:8080/",
          "height": 54
        },
        "outputId": "ac3f8319-f337-4500-d387-76bc9d035fea"
      },
      "cell_type": "code",
      "source": [
        "import numpy as np\n",
        "\n",
        "x = np.array([[1,2,3],[4,5,6]])\n",
        "x"
      ],
      "execution_count": 4,
      "outputs": [
        {
          "output_type": "execute_result",
          "data": {
            "text/plain": [
              "array([[1, 2, 3],\n",
              "       [4, 5, 6]])"
            ]
          },
          "metadata": {
            "tags": []
          },
          "execution_count": 4
        }
      ]
    },
    {
      "metadata": {
        "id": "H9Qm68LRDTOw",
        "colab_type": "text"
      },
      "cell_type": "markdown",
      "source": [
        "### SciPy\n",
        "\n",
        "Algebra lineal avanzada, distribuciones estadisticas\n"
      ]
    },
    {
      "metadata": {
        "id": "OfqRJuqtDhLA",
        "colab_type": "code",
        "colab": {
          "base_uri": "https://localhost:8080/",
          "height": 219
        },
        "outputId": "1186a713-7b74-4d4e-ee3c-1fd270f622a3"
      },
      "cell_type": "code",
      "source": [
        "from scipy import sparse\n",
        "\n",
        "# Creaer un arreglo 2d con la diagonal en 1 y el resto 0 (la matriz identidad)\n",
        "identidad = np.eye(4)\n",
        "\n",
        "print(\"Arreglo Numpy:\\n%s\" % identidad)\n",
        "\n",
        "# Convertir el arreglo numpy en una matriz sparse scipy en formato CSR\n",
        "# donde solo los valores != 0 son guardados\n",
        "\n",
        "sparse_matriz = sparse.csr_matrix(identidad)\n",
        "print(\"\\nScipy sparse CSR matriz:\\n%s\" % sparse_matriz)"
      ],
      "execution_count": 8,
      "outputs": [
        {
          "output_type": "stream",
          "text": [
            "Arreglo Numpy:\n",
            "[[1. 0. 0. 0.]\n",
            " [0. 1. 0. 0.]\n",
            " [0. 0. 1. 0.]\n",
            " [0. 0. 0. 1.]]\n",
            "\n",
            "Scipy sparse CSR matriz:\n",
            "  (0, 0)\t1.0\n",
            "  (1, 1)\t1.0\n",
            "  (2, 2)\t1.0\n",
            "  (3, 3)\t1.0\n"
          ],
          "name": "stdout"
        }
      ]
    }
  ]
}